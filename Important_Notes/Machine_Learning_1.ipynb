{
 "cells": [
  {
   "cell_type": "markdown",
   "metadata": {},
   "source": [
    "<h1 style='color: green;'><center>Machine Learning 1</center></h1>\n"
   ]
  },
  {
   "cell_type": "markdown",
   "metadata": {},
   "source": [
    "<h3>Q1. Define Artificial Intelligence (AI).</h3>\n",
    "Artificial Intelligence (AI) is a branch of computer science that focuses on creating systems capable of performing tasks that typically require human intelligence. These tasks include problem-solving, understanding natural language, recognizing patterns, learning from experience, and making decisions."
   ]
  },
  {
   "cell_type": "markdown",
   "metadata": {},
   "source": [
    "<h3>Q2. Explain the differences between Artificial Intelligence (AI), Machine Learning (ML), Deep Learning (DL), Data Science (DS).</h3>\n",
    "\n",
    "\n",
    "<table>\n",
    "    <tr>\n",
    "        <th>Concept</th>\n",
    "        <th>Definition</th>\n",
    "        <th>Key Features</th>\n",
    "        <th>Examples</th>\n",
    "    </tr>\n",
    "    <tr>\n",
    "        <td>Artificial Intelligence (AI)</td>\n",
    "        <td>AI is the broad field of creating intelligent systems capable of performing tasks that typically require human intelligence.</td>\n",
    "        <td>Includes reasoning, problem-solving, understanding language, perception, and learning.</td>\n",
    "        <td>Chatbots, Autonomous Vehicles, Recommendation Systems</td>\n",
    "    </tr>\n",
    "    <tr>\n",
    "        <td>Machine Learning (ML)</td>\n",
    "        <td>ML is a subset of AI that involves training algorithms on data to learn patterns and make decisions without explicit programming.</td>\n",
    "        <td>Focuses on predictive accuracy, uses statistical methods, can handle large datasets.</td>\n",
    "        <td>Spam Detection, Image Recognition, Predictive Analytics</td>\n",
    "    </tr>\n",
    "    <tr>\n",
    "        <td>Deep Learning (DL)</td>\n",
    "        <td>DL is a subset of ML that uses neural networks with many layers to analyze various factors of data.</td>\n",
    "        <td>Excels with large amounts of data, automatic feature extraction, uses layers of neural networks.</td>\n",
    "        <td>Speech Recognition, Image Classification, Natural Language Processing</td>\n",
    "    </tr>\n",
    "    <tr>\n",
    "        <td>Data Science (DS)</td>\n",
    "        <td>DS is an interdisciplinary field focused on extracting knowledge and insights from structured and unstructured data.</td>\n",
    "        <td>Uses statistical, mathematical, and computational techniques, involves data cleaning, analysis, and visualization.</td>\n",
    "        <td>Market Analysis, Fraud Detection, Personalized Recommendations</td>\n",
    "    </tr>\n",
    "</table>\n"
   ]
  }
 ],
 "metadata": {
  "kernelspec": {
   "display_name": "base",
   "language": "python",
   "name": "python3"
  },
  "language_info": {
   "name": "python",
   "version": "3.11.7"
  }
 },
 "nbformat": 4,
 "nbformat_minor": 2
}
